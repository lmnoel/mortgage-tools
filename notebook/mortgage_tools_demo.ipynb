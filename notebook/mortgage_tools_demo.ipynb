{
 "cells": [
  {
   "cell_type": "code",
   "execution_count": null,
   "id": "f5a61bc2",
   "metadata": {},
   "outputs": [],
   "source": [
    "%pip install --force-reinstall mortgage_tools"
   ]
  },
  {
   "cell_type": "code",
   "execution_count": null,
   "id": "96be5002",
   "metadata": {},
   "outputs": [],
   "source": [
    "from mortgage_tools.calculation import Loan\n",
    "\n",
    "loan = Loan(initial_principal=1_000_000, term_in_months=360, annual_interest_rate=.065)\n",
    "loan.summarize()"
   ]
  },
  {
   "cell_type": "code",
   "execution_count": null,
   "id": "07ee067e",
   "metadata": {},
   "outputs": [],
   "source": [
    "amortization_table = loan.amortization_table()\n",
    "amortization_table.head(10)"
   ]
  },
  {
   "cell_type": "code",
   "execution_count": null,
   "id": "bf449120",
   "metadata": {},
   "outputs": [],
   "source": [
    "from mortgage_tools.plot import plot_amortization_components\n",
    "\n",
    "plot_amortization_components(loan.amortization_table())"
   ]
  },
  {
   "cell_type": "code",
   "execution_count": null,
   "id": "7c2729ee",
   "metadata": {},
   "outputs": [],
   "source": [
    "from mortgage_tools.plot import plot_monthly_payments, plot_monthly_payments_relative\n",
    "\n",
    "loan.standard_monthly_payment()\n",
    "\n",
    "plot_monthly_payments(amortization_table)\n",
    "plot_monthly_payments_relative(amortization_table)\n"
   ]
  },
  {
   "cell_type": "code",
   "execution_count": null,
   "id": "0ca6e1be",
   "metadata": {},
   "outputs": [],
   "source": [
    "loan1 = Loan(initial_principal=1_000_000, term_in_months=360, annual_interest_rate=.065)\n",
    "loan2 = Loan(initial_principal=1_200_000, term_in_months=360, annual_interest_rate=.065)\n",
    "\n",
    "loan2.summarize() - loan1.summarize()"
   ]
  },
  {
   "cell_type": "code",
   "execution_count": null,
   "id": "fbadb706",
   "metadata": {},
   "outputs": [],
   "source": [
    "from mortgage_tools.plot import plot_relative_amortization_tables\n",
    "\n",
    "plot_relative_amortization_tables(loan1.amortization_table(),loan2.amortization_table())"
   ]
  },
  {
   "cell_type": "code",
   "execution_count": null,
   "id": "f439a5bd",
   "metadata": {},
   "outputs": [],
   "source": [
    "default_amortization_table = loan.amortization_table()\n",
    "default_loan_summary = loan.summarize()\n",
    "\n",
    "# model any combination of early payments to principal\n",
    "loan.apply_monthly_recurring_payment(additional_payment=200)\n",
    "loan.apply_monthly_recurring_payment(additional_payment=100, start_month=45, end_month=48)\n",
    "loan.apply_annual_recurring_payment(additional_payment=5_000)\n",
    "loan.apply_ad_hoc_payment(additional_payment=100_000, month=200)\n",
    "\n",
    "loan.summarize() - default_loan_summary"
   ]
  },
  {
   "cell_type": "code",
   "execution_count": null,
   "id": "8dfb7bd8",
   "metadata": {},
   "outputs": [],
   "source": [
    "plot_relative_amortization_tables(default_amortization_table, loan.amortization_table())"
   ]
  },
  {
   "cell_type": "code",
   "execution_count": null,
   "id": "5daa3f6a",
   "metadata": {},
   "outputs": [],
   "source": [
    "loan = Loan(initial_principal=1_000_000, term_in_months=360, annual_interest_rate=.065)\n",
    "default_amortization_table = loan.amortization_table()\n",
    "default_loan_summary = loan.summarize()\n",
    "\n",
    "# no need to specify when each additional principal payment was made\n",
    "loan.set_current_status(current_month=55, remaining_principal=784_892, interest_paid=200_368)\n",
    "\n",
    "loan.payoff_period_months()"
   ]
  },
  {
   "cell_type": "code",
   "execution_count": null,
   "id": "af704923",
   "metadata": {},
   "outputs": [],
   "source": [
    "loan.summarize()"
   ]
  },
  {
   "cell_type": "code",
   "execution_count": null,
   "id": "f5a53095",
   "metadata": {},
   "outputs": [],
   "source": [
    "loan.summarize() - default_loan_summary"
   ]
  },
  {
   "cell_type": "code",
   "execution_count": null,
   "id": "df5bf529",
   "metadata": {},
   "outputs": [],
   "source": [
    "plot_relative_amortization_tables(default_amortization_table, loan.amortization_table())"
   ]
  },
  {
   "cell_type": "code",
   "execution_count": null,
   "id": "827aec92",
   "metadata": {},
   "outputs": [],
   "source": [
    "from mortgage_tools.optimization import payoff_curve\n",
    "from mortgage_tools.plot import plot_payoff_curve\n",
    "\n",
    "curve = payoff_curve(loan)\n",
    "curve.head(10)"
   ]
  },
  {
   "cell_type": "code",
   "execution_count": null,
   "id": "b4a345cf",
   "metadata": {},
   "outputs": [],
   "source": [
    "from mortgage_tools.plot import plot_payoff_curve\n",
    "\n",
    "plot_payoff_curve(curve)"
   ]
  },
  {
   "cell_type": "code",
   "execution_count": null,
   "id": "cbfc6a3a",
   "metadata": {},
   "outputs": [],
   "source": [
    "from mortgage_tools.optimization import interest_rate_curve\n",
    "\n",
    "curve = interest_rate_curve(initial_principal=1_000_000, term_in_months=360, min_interest_rate=0.05, max_interest_rate=0.06)\n",
    "\n",
    "curve.head(10)"
   ]
  },
  {
   "cell_type": "code",
   "execution_count": null,
   "id": "60406fb1",
   "metadata": {},
   "outputs": [],
   "source": [
    "from mortgage_tools.plot import plot_interest_rate_curve\n",
    "\n",
    "plot_interest_rate_curve(initial_principal=1_000_000, term_in_months=360, min_interest_rate=0.05, max_interest_rate=0.06)"
   ]
  },
  {
   "cell_type": "code",
   "execution_count": null,
   "id": "9723c2b2",
   "metadata": {},
   "outputs": [],
   "source": [
    "from mortgage_tools.optimization import principal_curve\n",
    "\n",
    "curve = principal_curve(min_principal=1_000_000, max_principal=1_200_000, interest_rate=0.034, term_in_months=360)\n",
    "curve.head(10)"
   ]
  },
  {
   "cell_type": "code",
   "execution_count": null,
   "id": "fddf9d87",
   "metadata": {},
   "outputs": [],
   "source": [
    "from mortgage_tools.plot import plot_principal_curve\n",
    "\n",
    "plot_principal_curve(min_principal=1_000_000, max_principal=1_200_000, interest_rate=0.034, term_in_months=360)"
   ]
  },
  {
   "cell_type": "code",
   "execution_count": null,
   "id": "ac5469d3",
   "metadata": {},
   "outputs": [],
   "source": [
    "from mortgage_tools.optimization import payoff_by_date\n",
    "loan = Loan(initial_principal=1_000_000, term_in_months=360, annual_interest_rate=.065)\n",
    "\n",
    "# payoff by year 22 month 6 (starting from the beginning)\n",
    "payoff_by_date(loan, desired_payoff_month=270)"
   ]
  },
  {
   "cell_type": "code",
   "execution_count": null,
   "id": "93c5da88",
   "metadata": {},
   "outputs": [],
   "source": [
    "# already made some additional payments\n",
    "loan.set_current_status(current_month=8, remaining_principal=950_000, interest_paid=45_000)\n",
    "payoff_by_date(loan, desired_payoff_month=270)"
   ]
  }
 ],
 "metadata": {
  "kernelspec": {
   "display_name": "Python 3 (ipykernel)",
   "language": "python",
   "name": "python3"
  },
  "language_info": {
   "codemirror_mode": {
    "name": "ipython",
    "version": 3
   },
   "file_extension": ".py",
   "mimetype": "text/x-python",
   "name": "python",
   "nbconvert_exporter": "python",
   "pygments_lexer": "ipython3",
   "version": "3.9.13"
  }
 },
 "nbformat": 4,
 "nbformat_minor": 5
}
